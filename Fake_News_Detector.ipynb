{
 "cells": [
  {
   "cell_type": "code",
   "execution_count": 1,
   "id": "549eb4ef-a686-4c95-bbb0-f34546c2672a",
   "metadata": {},
   "outputs": [
    {
     "name": "stdout",
     "output_type": "stream",
     "text": [
      "✅ Model Accuracy: 99.4%\n",
      "🔍 Confusion Matrix:\n",
      "[[4618   32]\n",
      " [  22 4308]]\n"
     ]
    },
    {
     "name": "stdin",
     "output_type": "stream",
     "text": [
      "\n",
      "📰 Enter News Article (or type 'exit' to quit):\n",
      " WASHINGTON (Reuters) - Alabama Secretary of State John Merrill said he will certify Democratic Senator-elect Doug Jones as winner on Thursday despite opponent Roy Mooreâ€™s challenge, in a phone call on CNN. Moore, a conservative who had faced allegations of groping teenage girls when he was in his 30s, filed a court challenge late on Wednesday to the outcome of a U.S. Senate election he unexpectedly lost. \n"
     ]
    },
    {
     "name": "stdout",
     "output_type": "stream",
     "text": [
      "🔥 Prediction: REAL\n"
     ]
    },
    {
     "name": "stdin",
     "output_type": "stream",
     "text": [
      "\n",
      "📰 Enter News Article (or type 'exit' to quit):\n",
      " Donald Trump spent a good portion of his day at his golf club, marking the 84th day he s done so since taking the oath of office. It must have been a bad game because just after that, Trump lashed out at FBI Deputy Director Andrew McCabe on Twitter following a report saying McCabe plans to retire in a few months. The report follows McCabe s testimony in front of congressional committees this week, as well as mounting criticism from Republicans regarding the Russia probe.So, naturally, Trump attacked McCabe with a lie. How can FBI Deputy Director Andrew McCabe, the man in charge, along with leakin  James Comey, of the Phony Hillary Clinton investigation (including her 33,000 illegally deleted emails) be given $700,000 for wife s campaign by Clinton Puppets during investigation?  Trump tweeted.How can FBI Deputy Director Andrew McCabe, the man in charge, along with leakin  James Comey, of the Phony Hillary Clinton investigation (including her 33,000 illegally deleted emails) be given $700,000 for wife s campaign by Clinton Puppets during investigation?  Donald J. Trump (@realDonaldTrump) December 23, 2017He didn t stop there.FBI Deputy Director Andrew McCabe is racing the clock to retire with full benefits. 90 days to go?!!!  Donald J. Trump (@realDonaldTrump) December 23, 2017Wow,  FBI lawyer James Baker reassigned,  according to @FoxNews.  Donald J. Trump (@realDonaldTrump) December 23, 2017With all of the Intel at Trump s disposal, he s getting his information from Fox News. McCabe spent most of his career in the fight against terrorism and now he s being attacked by the so-called president. Trump has been fact-checked before on his claim of his wife receiving $700,000 for her campaign.Politifact noted in late July that Trump s  tweet about Andrew McCabe is a significant distortion of the facts. And the implication that McCabe got Clinton off as a political favor doesn t make much sense when we look at the evidence. His July tweet was rated  mostly false.  But Trump repeats these lies because he knows his supporters will believe them without bothering to Google. It s still a lie, though.Photo by Zach Gibson   Pool/Getty Images.\n"
     ]
    },
    {
     "name": "stdout",
     "output_type": "stream",
     "text": [
      "🔥 Prediction: FAKE\n"
     ]
    },
    {
     "name": "stdin",
     "output_type": "stream",
     "text": [
      "\n",
      "📰 Enter News Article (or type 'exit' to quit):\n",
      " exit\n"
     ]
    }
   ],
   "source": [
    "# FakeNews_Detector.ipynb\n",
    "\n",
    "# ✅ Step 1: Import Libraries\n",
    "import pandas as pd\n",
    "from sklearn.model_selection import train_test_split\n",
    "from sklearn.feature_extraction.text import TfidfVectorizer\n",
    "from sklearn.linear_model import PassiveAggressiveClassifier\n",
    "from sklearn.metrics import accuracy_score, confusion_matrix\n",
    "\n",
    "# ✅ Step 2: Load Dataset\n",
    "true_df = pd.read_csv(\"True.csv\")\n",
    "fake_df = pd.read_csv(\"Fake.csv\")\n",
    "\n",
    "# ✅ Step 3: Labeling the Data\n",
    "true_df[\"label\"] = \"REAL\"\n",
    "fake_df[\"label\"] = \"FAKE\"\n",
    "\n",
    "# ✅ Step 4: Combine Both Datasets\n",
    "data = pd.concat([true_df, fake_df], ignore_index=True)\n",
    "data = data[['text', 'label']]  # Using only 'text' column\n",
    "\n",
    "# ✅ Step 5: Prepare Training & Testing Data\n",
    "x = data['text']\n",
    "y = data['label']\n",
    "\n",
    "vectorizer = TfidfVectorizer(stop_words='english', max_df=0.7)\n",
    "tfidf_x = vectorizer.fit_transform(x)\n",
    "\n",
    "x_train, x_test, y_train, y_test = train_test_split(tfidf_x, y, test_size=0.2, random_state=42)\n",
    "\n",
    "# ✅ Step 6: Train the Classifier\n",
    "model = PassiveAggressiveClassifier()\n",
    "model.fit(x_train, y_train)\n",
    "\n",
    "# ✅ Step 7: Evaluate\n",
    "y_pred = model.predict(x_test)\n",
    "acc = accuracy_score(y_test, y_pred)\n",
    "\n",
    "print(f\"✅ Model Accuracy: {round(acc * 100, 2)}%\")\n",
    "print(\"🔍 Confusion Matrix:\")\n",
    "print(confusion_matrix(y_test, y_pred))\n",
    "\n",
    "# ✅ Step 8: Predict Live News\n",
    "while True:\n",
    "    user_input = input(\"\\n📰 Enter News Article (or type 'exit' to quit):\\n\")\n",
    "    if user_input.lower() == \"exit\":\n",
    "        break\n",
    "    input_vec = vectorizer.transform([user_input])\n",
    "    prediction = model.predict(input_vec)\n",
    "    print(f\"🔥 Prediction: {prediction[0]}\")\n"
   ]
  },
  {
   "cell_type": "code",
   "execution_count": null,
   "id": "b446f6c8-0d05-4de6-83d1-5409ff0452e8",
   "metadata": {},
   "outputs": [],
   "source": []
  }
 ],
 "metadata": {
  "kernelspec": {
   "display_name": "Python 3 (ipykernel)",
   "language": "python",
   "name": "python3"
  },
  "language_info": {
   "codemirror_mode": {
    "name": "ipython",
    "version": 3
   },
   "file_extension": ".py",
   "mimetype": "text/x-python",
   "name": "python",
   "nbconvert_exporter": "python",
   "pygments_lexer": "ipython3",
   "version": "3.12.4"
  }
 },
 "nbformat": 4,
 "nbformat_minor": 5
}
